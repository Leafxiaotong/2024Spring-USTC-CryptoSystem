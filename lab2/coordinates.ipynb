{
 "cells": [
  {
   "cell_type": "code",
   "execution_count": 1,
   "metadata": {},
   "outputs": [],
   "source": [
    "import numpy as np\n",
    "from Crypto.Util import number\n",
    "import time\n",
    "\n",
    "def P_add(p,a,b,P1,P2):\n",
    "    P3=[]\n",
    "    if np.array_equal(P1,P2) is False:\n",
    "        lambda_1=(P1[0]*P2[2])%p\n",
    "        lambda_2=(P2[0]*P1[2])%p\n",
    "        lambda_3=(lambda_1-lambda_2)%p\n",
    "        lambda_4=(P1[1]*P2[2])%p\n",
    "        lambda_5=(P2[1]*P1[2])%p\n",
    "        lambda_6=(lambda_4-lambda_5)%p\n",
    "        lambda_7=(lambda_1+lambda_2)%p\n",
    "        lambda_8=(P1[2]*P2[2])%p\n",
    "        lambda_9=(lambda_3*lambda_3)%p\n",
    "        lambda_10=(lambda_3*lambda_9)%p\n",
    "        lambda_11=(lambda_8*lambda_6*lambda_6-lambda_7*lambda_9)%p\n",
    "        P3.append((lambda_3*lambda_11)%p)\n",
    "        P3.append((lambda_6*(lambda_9*lambda_1-lambda_11)-lambda_4*lambda_10)%p)\n",
    "        P3.append((lambda_10*lambda_8)%p)\n",
    "    else:\n",
    "        lambda_1=(3*P1[0]*P1[0]+a*P1[2]*P1[2])%p\n",
    "        lambda_2=(2*P1[1]*P1[2])%p\n",
    "        lambda_3=(P1[1]*P1[1])%p\n",
    "        lambda_4=(lambda_3*P1[0]*P1[2])%p\n",
    "        lambda_5=(lambda_2*lambda_2)%p\n",
    "        lambda_6=(lambda_1*lambda_1-8*lambda_4)%p\n",
    "        P3.append((lambda_2*lambda_6)%p)\n",
    "        P3.append((lambda_1*(4*lambda_4-lambda_6)-2*lambda_5*lambda_3)%p)\n",
    "        P3.append((lambda_2*lambda_5)%p)\n",
    "    return np.array(P3)\n",
    "    \n",
    "def A_add(p,a,b,P1,P2):\n",
    "    P3=[]\n",
    "    if P1[0]!=P2[0]:\n",
    "        numerator = P2[1] - P1[1]\n",
    "        denominator = P2[0] - P1[0]\n",
    "        lambda_ = (numerator * pow(int(denominator), -1, p)) % p\n",
    "    if P1[0]==P2[0] and P1[1]!=-P2[1]:\n",
    "        numerator = 3*P1[0]*P1[0]+a\n",
    "        denominator = 2*P1[1]\n",
    "        lambda_ = (numerator * pow(int(denominator), -1, p)) % p\n",
    "    P3.append((lambda_*lambda_-P1[0]-P2[0])%p)\n",
    "    P3.append((lambda_*(P1[0]-P3[0])-P1[1])%p)\n",
    "    return np.array(P3)\n",
    "\n",
    "def J_add(p,a,b,P1,P2):\n",
    "    P3=[]\n",
    "    if np.array_equal(P1,P2) is False:\n",
    "        lambda_1=(P1[0]*P2[2]*P2[2])%p\n",
    "        lambda_2=(P2[0]*P1[2]*P1[2])%p\n",
    "        lambda_3=(lambda_1-lambda_2)%p\n",
    "        lambda_4=(P1[1]*P2[2]*P2[2]*P2[2])%p\n",
    "        lambda_5=(P2[1]*P1[2]*P1[2]*P1[2])%p\n",
    "        lambda_6=(lambda_4-lambda_5)%p\n",
    "        lambda_7=(lambda_1+lambda_2)%p\n",
    "        lambda_8=(lambda_4+lambda_5)%p\n",
    "        P3.append((lambda_6*lambda_6-lambda_7*lambda_3*lambda_3)%p)\n",
    "        lambda_9=(lambda_7*lambda_3*lambda_3-2*P3[0])%p\n",
    "        P3.append(((lambda_9*lambda_6-lambda_8*lambda_3*lambda_3*lambda_3)*pow(2,-1,p))%p)\n",
    "        P3.append((P1[2]*P2[2]*lambda_3)%p)\n",
    "    else:\n",
    "        lambda_1=(3*P1[0]*P1[0]+a*P1[2]*P1[2]*P1[2]*P1[2])%p\n",
    "        lambda_2=(4*P1[0]*P1[1]*P1[1])%p\n",
    "        lambda_3=(8*P1[1]*P1[1]*P1[1]*P1[1])%p\n",
    "        P3.append((lambda_1*lambda_1-2*lambda_2)%p)\n",
    "        P3.append((lambda_1*(lambda_2-P3[0])-lambda_3)%p)\n",
    "        P3.append((2*P1[1]*P1[2])%p)\n",
    "    return np.array(P3)\n",
    "\n",
    "def P2A(Q,p):\n",
    "    P=[]\n",
    "    P.append((Q[0]*pow(int(Q[2]),-1,p))%p)\n",
    "    P.append((Q[1]*pow(int(Q[2]),-1,p))%p)\n",
    "    return np.array(P)\n",
    "\n",
    "def J2A(Q,p):\n",
    "    P=[]\n",
    "    P.append((Q[0]*pow(int(Q[2]*Q[2]),-1,p))%p)\n",
    "    P.append((Q[1]*pow(int(Q[2]*Q[2]*Q[2]),-1,p))%p)\n",
    "    return np.array(P)\n"
   ]
  },
  {
   "cell_type": "code",
   "execution_count": 2,
   "metadata": {},
   "outputs": [],
   "source": [
    "p = number.getPrime(256)\n",
    "a = -3\n",
    "b = 41058363725152142129326129780047268409114441015993725554835256314039467401291\n",
    "x1=number.getPrime(256)\n",
    "x2=number.getPrime(256)\n",
    "y1=number.getPrime(256)\n",
    "y2=number.getPrime(256)"
   ]
  },
  {
   "cell_type": "code",
   "execution_count": 3,
   "metadata": {},
   "outputs": [
    {
     "name": "stdout",
     "output_type": "stream",
     "text": [
      "Execution time: 12220.775984 milliseconds\n",
      "[463972495128677303069010701625340078105471794719880857914198162439455051894\n",
      " 4238686927153005617366974182145261759506957049585900521711690505413616109684]\n"
     ]
    }
   ],
   "source": [
    "P1=np.array([x1,y1])\n",
    "P2=np.array([x2,y2])\n",
    "start_time = time.perf_counter()\n",
    "for _ in range(1000000):\n",
    "    A=A_add(p,a,b,P1,P2)\n",
    "end_time = time.perf_counter()\n",
    "print(\"Execution time: {:.6f} milliseconds\".format((end_time - start_time)*1000))\n",
    "print(A)"
   ]
  },
  {
   "cell_type": "code",
   "execution_count": 4,
   "metadata": {},
   "outputs": [
    {
     "name": "stdout",
     "output_type": "stream",
     "text": [
      "Execution time: 4821.904807 milliseconds\n",
      "[16847931091227138855281154264039496561724006925804352081334166300012157935685\n",
      " 20185806282884540739926249935764825788149700446064835927530815634533394148417\n",
      " 69168887711226801455836489362944574165922054460292368335401028096879979154914] [463972495128677303069010701625340078105471794719880857914198162439455051894\n",
      " 4238686927153005617366974182145261759506957049585900521711690505413616109684]\n"
     ]
    }
   ],
   "source": [
    "P1=np.array([x1,y1,1])\n",
    "P2=np.array([x2,y2,1])\n",
    "start_time = time.perf_counter()\n",
    "for _ in range(1000000):\n",
    "    P=P_add(p,a,b,P1,P2)\n",
    "end_time = time.perf_counter()\n",
    "print(\"Execution time: {:.6f} milliseconds\".format((end_time - start_time)*1000))\n",
    "print(P,P2A(P,p))"
   ]
  },
  {
   "cell_type": "code",
   "execution_count": 5,
   "metadata": {},
   "outputs": [
    {
     "name": "stdout",
     "output_type": "stream",
     "text": [
      "Execution time: 6223.363959 milliseconds\n",
      "[44064752578127039991252906199995927820213300756218798419661767234853208667317\n",
      " 20185806282884540739926249935764825788149700446064835927530815634533394148417\n",
      " 66781091789224723804284234942618017376018826314739743674348351457897432338331] [463972495128677303069010701625340078105471794719880857914198162439455051894\n",
      " 4238686927153005617366974182145261759506957049585900521711690505413616109684]\n"
     ]
    }
   ],
   "source": [
    "P1=np.array([x1,y1,1])\n",
    "P2=np.array([x2,y2,1])\n",
    "start_time = time.perf_counter()\n",
    "for _ in range(1000000):\n",
    "    J=J_add(p,a,b,P1,P2)\n",
    "end_time = time.perf_counter()\n",
    "print(\"Execution time: {:.6f} milliseconds\".format((end_time - start_time)*1000))\n",
    "print(J,J2A(J,p))"
   ]
  }
 ],
 "metadata": {
  "kernelspec": {
   "display_name": "base",
   "language": "python",
   "name": "python3"
  },
  "language_info": {
   "codemirror_mode": {
    "name": "ipython",
    "version": 3
   },
   "file_extension": ".py",
   "mimetype": "text/x-python",
   "name": "python",
   "nbconvert_exporter": "python",
   "pygments_lexer": "ipython3",
   "version": "3.11.4"
  }
 },
 "nbformat": 4,
 "nbformat_minor": 2
}
